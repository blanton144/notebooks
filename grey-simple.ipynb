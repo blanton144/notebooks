{
 "cells": [
  {
   "cell_type": "code",
   "execution_count": 1,
   "metadata": {
    "collapsed": false
   },
   "outputs": [],
   "source": [
    "%matplotlib inline\n",
    "import matplotlib.pyplot as plt\n",
    "import numpy as np\n",
    "import astropy.io.ascii as ascii\n",
    "import platedesign.observatory as observatory\n",
    "import datetime\n",
    "import PyAstronomy.pyasl as pyasl\n",
    "from moonphase import moonphase2"
   ]
  },
  {
   "cell_type": "markdown",
   "metadata": {},
   "source": [
    "## Initial set up"
   ]
  },
  {
   "cell_type": "markdown",
   "metadata": {},
   "source": [
    "Using latest schedule; this is used to determine twilights."
   ]
  },
  {
   "cell_type": "code",
   "execution_count": 2,
   "metadata": {
    "collapsed": false
   },
   "outputs": [],
   "source": [
    "rdr = ascii.get_reader(Reader=ascii.Basic)\n",
    "schedule = rdr.read('Sch_base.Aug16.RM_ELG.txt')"
   ]
  },
  {
   "cell_type": "markdown",
   "metadata": {},
   "source": [
    "Consider only dates in Years 4-6."
   ]
  },
  {
   "cell_type": "code",
   "execution_count": 3,
   "metadata": {
    "collapsed": false
   },
   "outputs": [],
   "source": [
    "ischedule = np.where((schedule['MJD'] > 2400000.5 + 58000) &\n",
    "                     (schedule['Eng'] == 0))[0]"
   ]
  },
  {
   "cell_type": "markdown",
   "metadata": {},
   "source": [
    "The Observatory object contains some information about the observatory; here only longitude and latitude matter."
   ]
  },
  {
   "cell_type": "code",
   "execution_count": 4,
   "metadata": {
    "collapsed": false
   },
   "outputs": [],
   "source": [
    "apo = observatory.Observatory('APO')"
   ]
  },
  {
   "cell_type": "markdown",
   "metadata": {},
   "source": [
    "We calculate properties for every 5 minutes of observing time."
   ]
  },
  {
   "cell_type": "code",
   "execution_count": 5,
   "metadata": {
    "collapsed": true
   },
   "outputs": [],
   "source": [
    "interval_hours = 5. / 60.\n",
    "interval_days = interval_hours / 24."
   ]
  },
  {
   "cell_type": "code",
   "execution_count": 6,
   "metadata": {
    "collapsed": false
   },
   "outputs": [],
   "source": [
    "ninterval = 0\n",
    "exposures = np.zeros(0, dtype=np.float64)\n",
    "for day in schedule[ischedule]:\n",
    "    jd_start = 0.\n",
    "    jd_end = 0.\n",
    "    if(day['MJD_start_bright'] == 0.):\n",
    "        jd_start = day['MJD_start_dark']\n",
    "        jd_end = day['MJD_end_dark']\n",
    "    elif(day['MJD_start_dark'] == 0.):\n",
    "        jd_start = day['MJD_start_bright']\n",
    "        jd_end = day['MJD_end_bright']\n",
    "    else:\n",
    "        jd_start = np.array([day['MJD_start_bright'], day['MJD_start_dark']]).min()\n",
    "        jd_end = np.array([day['MJD_end_bright'], day['MJD_end_dark']]).max()\n",
    "    #print(\"jd_start={jd_start:>0.5f} jd_end={jd_end:>0.5f}\".format(jd_start=jd_start, jd_end=jd_end))\n",
    "    ninterval_tmp = np.int32(np.floor((jd_end - jd_start) / interval_days))\n",
    "    exposures_tmp = (np.arange(ninterval_tmp) + 0.5) * interval_days + jd_start\n",
    "    exposures = np.append(exposures, exposures_tmp)\n",
    "    ninterval = ninterval + ninterval_tmp"
   ]
  },
  {
   "cell_type": "markdown",
   "metadata": {},
   "source": [
    "These routines use the basic Meeus-based calculations for moon position, LST, moon illumination, and fractional phase. "
   ]
  },
  {
   "cell_type": "code",
   "execution_count": 7,
   "metadata": {
    "collapsed": false
   },
   "outputs": [],
   "source": [
    "moon_ras, moon_decs, dist, geolon, geolat = pyasl.moonpos(exposures)\n",
    "lsts = 15. * pyasl.ct2lst(exposures, np.zeros(len(exposures)) + apo.location.longitude.value)\n",
    "moon_has = lsts - moon_ras"
   ]
  },
  {
   "cell_type": "code",
   "execution_count": 8,
   "metadata": {
    "collapsed": true
   },
   "outputs": [],
   "source": [
    "moon_alts, moon_azs = pyasl.hadec2altaz(moon_has, moon_decs, np.zeros(len(exposures)) + apo.location.latitude.value)"
   ]
  },
  {
   "cell_type": "code",
   "execution_count": 9,
   "metadata": {
    "collapsed": true
   },
   "outputs": [],
   "source": [
    "moon_illuminations = moonphase2(exposures)\n",
    "phases = 1. - np.arccos(1.99999 * (moon_illuminations - 0.5)) / np.pi"
   ]
  },
  {
   "cell_type": "markdown",
   "metadata": {},
   "source": [
    "## Calculating grey time as defined for ELGs"
   ]
  },
  {
   "cell_type": "markdown",
   "metadata": {},
   "source": [
    "We use the moon illumination to calculate the grey time as supposed to be currently defined for the ELGs (0.35 < illum. < 0.45, when altitude < 10.). This illumination is the same quantity calculated and used in [the master schedule software](https://trac.sdss.org/browser/repo/sdss/master_schedule/trunk/plan_night_sdss4cor_out.pro)."
   ]
  },
  {
   "cell_type": "code",
   "execution_count": 10,
   "metadata": {
    "collapsed": false
   },
   "outputs": [],
   "source": [
    "dark = np.zeros(24)\n",
    "grey = np.zeros(24)\n",
    "bright = np.zeros(24)\n",
    "for (lst, moon_alt, moon_illumination, phase) in zip(lsts, moon_alts, moon_illuminations, phases):\n",
    "    ilst = np.int32(np.floor(lst / 15.))\n",
    "    if((moon_illumination < 0.35) or\n",
    "       ((moon_alt < 0.) and (moon_illumination < 0.75))):\n",
    "        dark[ilst] = dark[ilst] + interval_hours \n",
    "    else:\n",
    "        if((moon_illumination > 0.35) and\n",
    "           (moon_illumination < 0.45) and\n",
    "           (moon_alt < 10.)):\n",
    "            grey[ilst] = grey[ilst] + interval_hours\n",
    "        else:\n",
    "            bright[ilst] = bright[ilst] + interval_hours"
   ]
  },
  {
   "cell_type": "code",
   "execution_count": 11,
   "metadata": {
    "collapsed": false
   },
   "outputs": [
    {
     "name": "stdout",
     "output_type": "stream",
     "text": [
      "0.536193950194\n",
      "0.00556901400607\n",
      "0.458237035799\n"
     ]
    }
   ],
   "source": [
    "print(dark.sum() / (dark.sum() + bright.sum() + grey.sum()))\n",
    "print(grey.sum() / (dark.sum() + bright.sum() + grey.sum()))\n",
    "print(bright.sum() / (dark.sum() + bright.sum() + grey.sum()))"
   ]
  },
  {
   "cell_type": "markdown",
   "metadata": {},
   "source": [
    "Over three years, there should be only 80 hours total of such grey time."
   ]
  },
  {
   "cell_type": "code",
   "execution_count": 12,
   "metadata": {
    "collapsed": false
   },
   "outputs": [
    {
     "name": "stdout",
     "output_type": "stream",
     "text": [
      "4814.08333333\n",
      "50.0\n",
      "4114.16666667\n"
     ]
    }
   ],
   "source": [
    "print(dark.sum())\n",
    "print(grey.sum())\n",
    "print(bright.sum())"
   ]
  },
  {
   "cell_type": "markdown",
   "metadata": {},
   "source": [
    "## Calculating proposed grey time"
   ]
  },
  {
   "cell_type": "markdown",
   "metadata": {},
   "source": [
    "There's a claim that there is much more time if we let the Moon go to 35 deg altitude."
   ]
  },
  {
   "cell_type": "code",
   "execution_count": 13,
   "metadata": {
    "collapsed": false
   },
   "outputs": [],
   "source": [
    "dark = np.zeros(24)\n",
    "grey = np.zeros(24)\n",
    "bright = np.zeros(24)\n",
    "for (lst, moon_alt, moon_illumination, phase) in zip(lsts, moon_alts, moon_illuminations, phases):\n",
    "    ilst = np.int32(np.floor(lst / 15.))\n",
    "    if((moon_illumination < 0.35) or\n",
    "       ((moon_alt < 0.) and (moon_illumination < 0.75))):\n",
    "        dark[ilst] = dark[ilst] + interval_hours \n",
    "    else:\n",
    "        if((moon_illumination > 0.35) and\n",
    "           (moon_illumination < 0.45) and\n",
    "           (moon_alt < 35.)):\n",
    "            grey[ilst] = grey[ilst] + interval_hours\n",
    "        else:\n",
    "            bright[ilst] = bright[ilst] + interval_hours"
   ]
  },
  {
   "cell_type": "markdown",
   "metadata": {},
   "source": [
    "This only adds 110 hours over three years (not 200 as eBOSS claims JUST for 10 < alt < 20!!)."
   ]
  },
  {
   "cell_type": "code",
   "execution_count": 14,
   "metadata": {
    "collapsed": false
   },
   "outputs": [
    {
     "name": "stdout",
     "output_type": "stream",
     "text": [
      "4814.08333333\n",
      "190.166666667\n",
      "3974.0\n"
     ]
    }
   ],
   "source": [
    "print(dark.sum())\n",
    "print(grey.sum())\n",
    "print(bright.sum())"
   ]
  },
  {
   "cell_type": "markdown",
   "metadata": {},
   "source": [
    "## Just dark and bright"
   ]
  },
  {
   "cell_type": "markdown",
   "metadata": {},
   "source": [
    "This should be the standard dark/bright split"
   ]
  },
  {
   "cell_type": "code",
   "execution_count": 15,
   "metadata": {
    "collapsed": false
   },
   "outputs": [],
   "source": [
    "dark = np.zeros(24)\n",
    "bright = np.zeros(24)\n",
    "for (lst, moon_alt, moon_illumination, phase) in zip(lsts, moon_alts, moon_illuminations, phases):\n",
    "    ilst = np.int32(np.floor(lst / 15.))\n",
    "    if((moon_illumination < 0.35) or\n",
    "       ((moon_alt < 0.) and (phase < 0.75))):\n",
    "        dark[ilst] = dark[ilst] + interval_hours \n",
    "    else:\n",
    "        bright[ilst] = bright[ilst] + interval_hours"
   ]
  },
  {
   "cell_type": "code",
   "execution_count": 16,
   "metadata": {
    "collapsed": false
   },
   "outputs": [
    {
     "name": "stdout",
     "output_type": "stream",
     "text": [
      "0.554729485145\n"
     ]
    }
   ],
   "source": [
    "print(dark.sum() / (dark.sum() + bright.sum()))"
   ]
  },
  {
   "cell_type": "code",
   "execution_count": 17,
   "metadata": {
    "collapsed": false
   },
   "outputs": [
    {
     "name": "stdout",
     "output_type": "stream",
     "text": [
      "4980.5\n",
      "3997.75\n"
     ]
    }
   ],
   "source": [
    "print(dark.sum())\n",
    "print(bright.sum())"
   ]
  }
 ],
 "metadata": {
  "kernelspec": {
   "display_name": "Python 3",
   "language": "python",
   "name": "python3"
  },
  "language_info": {
   "codemirror_mode": {
    "name": "ipython",
    "version": 3
   },
   "file_extension": ".py",
   "mimetype": "text/x-python",
   "name": "python",
   "nbconvert_exporter": "python",
   "pygments_lexer": "ipython3",
   "version": "3.5.2"
  }
 },
 "nbformat": 4,
 "nbformat_minor": 2
}
