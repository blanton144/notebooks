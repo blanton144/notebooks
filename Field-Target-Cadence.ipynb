{
 "cells": [
  {
   "cell_type": "code",
   "execution_count": 1,
   "metadata": {},
   "outputs": [],
   "source": [
    "%matplotlib notebook\n",
    "import numpy as np\n",
    "import matplotlib.pyplot as plt\n",
    "import observesim.cadence as cadence"
   ]
  },
  {
   "cell_type": "markdown",
   "metadata": {},
   "source": [
    "# Determining field and target cadences\n",
    "\n",
    "Here we explore some tools to determine field and target cadences. We assume that the targets in the field are given to us with heterogeneous constraints on cadence encapsulated with the following information:\n",
    "\n",
    " * nepochs\n",
    " * epoch[] (desired epoch after first observation, days)\n",
    " * softness[] (tolerance on epoch, days)\n",
    " * lunation[] (maximize allowed lunation value)\n",
    " * value\n",
    "\n",
    "We define lunation as the illumination fraction of the moon, or 0 if the Moon is below the horizon. \n",
    "\n",
    "If you want several exposures at a given epoch, you define multiple entries with the same epoch value."
   ]
  },
  {
   "cell_type": "markdown",
   "metadata": {},
   "source": [
    "## Cadence Consistency Matrix\n",
    "\n",
    "We need some tools to decide on the field cadence. A basic question is:\n",
    "\"Is cadence $i$ achievable in a field with cadence $j$?\"\n",
    "\n",
    "For example, a single exposure cadence is always achievable, but if we\n",
    "need two exposures on a target in cadence $i$ then its achievability\n",
    "depends on the requirements on their cadence and what is on offer\n",
    "under cadence $j$. That is, if cadence i needs a month separation, but\n",
    "cadence $j$ has yearly separations, then it won't work. \n",
    "\n",
    "If we can determine this, we can construct a \"cadence consistency\n",
    "matrix\", $C_{ij}$ which contains the answer to the above question\n",
    "encoded as a 0 or 1 (i.e. False or True). Note that this matrix is\n",
    "decidedly not symmetric. This matrix will be the basis on which we\n",
    "make decisions about which cadences to go for. \n",
    "\n",
    "To determine the cadence consistency matrix, we have to look at the\n",
    "individual exposures. Imagine we want to get exposures in the cadence\n",
    "specified in cadence $i$. Well, the first exposure in the list needs to\n",
    "correspond to some exposure in cadence $j$. So we will check each\n",
    "possibility in turn.  \n",
    "\n",
    "For each choice of epoch_i(0) = epoch_i(jstart), we now create an Exposure\n",
    "Consistency Matrix. The exposure consistency matrix contains the\n",
    "answer to the question for each $i'$, $j'$:\n",
    "\n",
    " \"Is exposure $i'$ consistent with exposure $j'$ offset by epoch_j(jstart)?\"\n",
    "\n",
    "The Exposure Consistency Matrix, $E_{ij}$ is 0s and 1s. The condition\n",
    "that the cadence i is achievable under cadence $j$ is equivalent to\n",
    "being able to construct a matrix $w_{ij}$ for which the following is\n",
    "true for some choice of jstart:\n",
    "\n",
    "    w_{ij} <= E_{ij} for all i, j, AND \n",
    "    \\sum_i w_{ij} <= 1 for all j, AND\n",
    "    \\sum_j w_{j} == 1 for all i\n",
    "\n",
    "The $w_{ij}$ are the \"solutions\" -- the choices of which exposures for\n",
    "cadence $i$ to put in which exposures for cadence $j$.\n",
    "\n",
    "The Exposure Consistency Matrix and its solutions will be important in\n",
    "selecting targets to assign to fibers for each design as well.\n",
    "\n",
    "The solutions to the Exposure Consistency Matrix problem can be found\n",
    "with standard techniques in constraint programming. Thus, we can\n",
    "determine the Cadence Consistency Matrix. Here we use Google's ortools \n",
    "package."
   ]
  },
  {
   "cell_type": "markdown",
   "metadata": {},
   "source": [
    "## CadenceList objects\n",
    "\n",
    "The CadenceList objects in observesim have tools for performing this operation. We start by creating a cadence list, which by default has nothing in it."
   ]
  },
  {
   "cell_type": "code",
   "execution_count": 2,
   "metadata": {},
   "outputs": [],
   "source": [
    "cadences = cadence.CadenceList()"
   ]
  },
  {
   "cell_type": "markdown",
   "metadata": {},
   "source": [
    "Now let us add some basic cadences. In the epochs, note that we always start with \"0\", because it doesn't really matter when the cadence starts."
   ]
  },
  {
   "cell_type": "code",
   "execution_count": 3,
   "metadata": {},
   "outputs": [],
   "source": [
    "# One epoch, any lunation\n",
    "cadences.add_cadence(nexposures=1, epoch=[0.], softness=[5.], lunation=[1.])\n",
    "# Two epochs, separated by about 20 days \n",
    "cadences.add_cadence(nexposures=2, epoch=[0., 20.], softness=[5., 4.], lunation=[1., 1.])\n",
    "# Three epochs\n",
    "cadences.add_cadence(nexposures=3, epoch=[0., 20., 30.], softness=[5., 2., 2.], lunation=[1., 1., 1.])\n",
    "# Four epochs\n",
    "cadences.add_cadence(nexposures=4, epoch=[0., 20., 30., 50.], softness=[5., 2., 2., 2.], lunation=[1., 1., 1., 1.])"
   ]
  },
  {
   "cell_type": "markdown",
   "metadata": {},
   "source": [
    "Now we can ask whether any cadence is achievable within any other one. We refer to the cadence by the zero-indexed order in which they are added to the list (we may want to clean this bad practice up!). "
   ]
  },
  {
   "cell_type": "markdown",
   "metadata": {},
   "source": [
    "For example, the one-epoch cadence is consistent within any of the others. If you ask for the solutions, you get a list of them; each solution is itself a list of epochs."
   ]
  },
  {
   "cell_type": "code",
   "execution_count": 4,
   "metadata": {},
   "outputs": [
    {
     "name": "stdout",
     "output_type": "stream",
     "text": [
      "(2, [[0], [1]])\n",
      "(3, [[0], [1], [2]])\n",
      "(4, [[0], [1], [2], [3]])\n"
     ]
    }
   ],
   "source": [
    "print(cadences.cadence_consistency(0, 1, return_solutions=True))\n",
    "print(cadences.cadence_consistency(0, 2, return_solutions=True))\n",
    "print(cadences.cadence_consistency(0, 3, return_solutions=True))"
   ]
  },
  {
   "cell_type": "markdown",
   "metadata": {},
   "source": [
    "But no other cadence is consistent within the one-epoch cadence:"
   ]
  },
  {
   "cell_type": "code",
   "execution_count": 5,
   "metadata": {},
   "outputs": [
    {
     "name": "stdout",
     "output_type": "stream",
     "text": [
      "(0, [])\n"
     ]
    }
   ],
   "source": [
    "print(cadences.cadence_consistency(1, 0, return_solutions=True))"
   ]
  },
  {
   "cell_type": "markdown",
   "metadata": {},
   "source": [
    "In our case, the two epoch cadence is consistent within the four-epoch cadences, with two choices for which epochs to associate with it:"
   ]
  },
  {
   "cell_type": "code",
   "execution_count": 6,
   "metadata": {},
   "outputs": [
    {
     "data": {
      "text/plain": [
       "(2, [[0, 1], [2, 3]])"
      ]
     },
     "execution_count": 6,
     "metadata": {},
     "output_type": "execute_result"
    }
   ],
   "source": [
    "cadences.cadence_consistency(1, 3, return_solutions=True)"
   ]
  },
  {
   "cell_type": "markdown",
   "metadata": {},
   "source": [
    "## Assigning targets to epochs\n",
    "\n",
    "Now imagine that you have a set of targets, each with a desired cadence. For example, these may be the targets reachable by a particular robot arm for a particular choice of field. You need to pick a field cadence that can include those target cadences. Once you have done that you need to assign the targets to each epoch in such a way as to maximize some concept of their value.\n",
    "\n",
    "This problem can be solved using constraint programming. Conceptually we construct a list of \"allowed\" choices indexed by target $i$, choice of cadence $j$, and epoch $k$. We set $A_{ijk}=1$ for each allowed choice, and $0$ for each not allowed choice. (This is not exactly a matrix, since the number of allowed cadences $N_{c,i}$ is different for each target $i$). \n",
    "\n",
    "We then need to choose for each $ijk$ whether or not there is an associated observation, which we indicate with $w_{ijk}$. \n",
    "\n",
    "The conditions to satisfy are:\n",
    "\n",
    "    w_{ijk} <= A_{ijk}\n",
    "    for all k, \\sum_{ij} w_{ijk} <= 1 \n",
    "    for all i, \\sum_j [ (\\sum_{k} w_{ijk}) > 0 ] <= 1\n",
    "    for each i and j, w_{ijk} are all equal for k for which A_{ijk} = 1\n",
    "    \n",
    "Then, for some specified value for each target $v_i$, we want to find a solution that maximizes the total $\\sum_i v_i$. \n",
    "\n",
    "These conditions can be specified and solved with ortools. This is implemented within the CadenceList class. The method pack_targets() takes a list of target cadences, a specified field cadence, and returns the targets to observe at each epoch."
   ]
  },
  {
   "cell_type": "markdown",
   "metadata": {},
   "source": [
    "For example, we can try to fit in four one-epoch targets into the 4-epoch cadence:"
   ]
  },
  {
   "cell_type": "code",
   "execution_count": 7,
   "metadata": {},
   "outputs": [
    {
     "name": "stdout",
     "output_type": "stream",
     "text": [
      "[3 2 1 0]\n"
     ]
    }
   ],
   "source": [
    "epoch_targets = cadences.pack_targets(target_cadences=[0, 0, 0, 0], field_cadence=3)\n",
    "print(epoch_targets)"
   ]
  },
  {
   "cell_type": "markdown",
   "metadata": {},
   "source": [
    "If we put five targets in, we will miss one:"
   ]
  },
  {
   "cell_type": "code",
   "execution_count": 8,
   "metadata": {},
   "outputs": [
    {
     "name": "stdout",
     "output_type": "stream",
     "text": [
      "[4 3 2 1]\n"
     ]
    }
   ],
   "source": [
    "epoch_targets = cadences.pack_targets(target_cadences=[0, 0, 0, 0, 0], field_cadence=3)\n",
    "print(epoch_targets)"
   ]
  },
  {
   "cell_type": "markdown",
   "metadata": {},
   "source": [
    "We can use the values if one target is less valuable than the others:"
   ]
  },
  {
   "cell_type": "code",
   "execution_count": 9,
   "metadata": {},
   "outputs": [
    {
     "name": "stdout",
     "output_type": "stream",
     "text": [
      "[4 3 1 0]\n"
     ]
    }
   ],
   "source": [
    "value = [2, 2, 1, 2, 2]\n",
    "epoch_targets = cadences.pack_targets(target_cadences=[0, 0, 0, 0, 0], value=value, field_cadence=3)\n",
    "print(epoch_targets)"
   ]
  },
  {
   "cell_type": "markdown",
   "metadata": {},
   "source": [
    "We can do more complex cases too, to fit in two one-epoch targets and one two-epoch target:"
   ]
  },
  {
   "cell_type": "code",
   "execution_count": 10,
   "metadata": {},
   "outputs": [
    {
     "name": "stdout",
     "output_type": "stream",
     "text": [
      "[2 2 1 0]\n"
     ]
    }
   ],
   "source": [
    "epoch_targets = cadences.pack_targets(target_cadences=[0, 0, 1], field_cadence=3)\n",
    "print(epoch_targets)"
   ]
  },
  {
   "cell_type": "code",
   "execution_count": null,
   "metadata": {},
   "outputs": [],
   "source": []
  }
 ],
 "metadata": {
  "kernelspec": {
   "display_name": "Python 3",
   "language": "python",
   "name": "python3"
  },
  "language_info": {
   "codemirror_mode": {
    "name": "ipython",
    "version": 3
   },
   "file_extension": ".py",
   "mimetype": "text/x-python",
   "name": "python",
   "nbconvert_exporter": "python",
   "pygments_lexer": "ipython3",
   "version": "3.6.4"
  }
 },
 "nbformat": 4,
 "nbformat_minor": 2
}
